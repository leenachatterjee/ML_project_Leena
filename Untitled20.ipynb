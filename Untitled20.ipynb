{
 "cells": [
  {
   "cell_type": "code",
   "execution_count": 44,
   "id": "4e1c15bc",
   "metadata": {},
   "outputs": [],
   "source": [
    "from tqdm import tqdm\n",
    "import os\n",
    "import cv2\n",
    "import numpy as np\n",
    "import time\n",
    "import tensorflow.compat.v1 as tf\n",
    "tf.disable_v2_behavior()\n",
    "\n",
    "INPUT_IMAGE_SIZE = (300,300)\n",
    "padding = \"SAME\"  #@param ['SAME', 'VALID' ]\n",
    "num_output_classes = 102  #@param {type: \"number\"}\n",
    "batch_size = 4 #@param {type: \"number\"}\n",
    "learning_rate = 0.001  #@param {type: \"number\"}\n",
    "\n"
   ]
  },
  {
   "cell_type": "code",
   "execution_count": 45,
   "id": "3ab414af",
   "metadata": {},
   "outputs": [],
   "source": [
    "def load_normal(norm_path):\n",
    "    norm_files = np.array(os.listdir(norm_path))\n",
    "    norm_labels = []\n",
    "    #import pdb;pdb.set_trace()\n",
    "    norm_images = []\n",
    "    for image in tqdm(norm_files):\n",
    "        image = cv2.imread(norm_path + image)\n",
    "        image = cv2.resize(image, dsize=INPUT_IMAGE_SIZE)\n",
    "        norm_labels.append(np.array([1,0])) # index 0 for no Disease\n",
    "        norm_images.append(image)\n",
    "    #norm_images = np.stack(norm_images,axis=0)\n",
    "\n",
    "    return np.stack(norm_images,axis=0), np.stack(norm_labels,axis=0)\n",
    "def load_pneumonia(pneu_path):\n",
    "    pneu_files = np.array(os.listdir(pneu_path))\n",
    "    pneu_labels = []\n",
    "    \n",
    "    pneu_images = []\n",
    "    for image in tqdm(pneu_files):\n",
    "        image = cv2.imread(pneu_path + image)\n",
    "        image = cv2.resize(image, dsize=INPUT_IMAGE_SIZE)\n",
    "        pneu_labels.append(np.array([0, 1]))  # index 1 for Disease\n",
    "        pneu_images.append(image)\n",
    "    #pneu_images = np.stack(pneu_images,axis=0)\n",
    "    return np.stack(pneu_images,axis=0), np.stack(pneu_labels,axis=0)"
   ]
  },
  {
   "cell_type": "code",
   "execution_count": 46,
   "id": "b2592d2b",
   "metadata": {},
   "outputs": [
    {
     "name": "stderr",
     "output_type": "stream",
     "text": [
      "100%|██████████████████████████████████████████████████████████████████████████████| 1341/1341 [01:52<00:00, 11.87it/s]\n",
      "100%|██████████████████████████████████████████████████████████████████████████████| 3875/3875 [02:03<00:00, 31.30it/s]\n"
     ]
    }
   ],
   "source": [
    "norm_images, norm_labels=load_normal('C:/Users/leena.chatterjee/Downloads/chest_xray/train/NORMAL/')\n",
    "pneu_images, pneu_labels = load_pneumonia('C:/Users/leena.chatterjee/Downloads/chest_xray/train/PNEUMONIA/')\n"
   ]
  },
  {
   "cell_type": "code",
   "execution_count": null,
   "id": "c85ef0a0",
   "metadata": {},
   "outputs": [],
   "source": [
    "# Put all train images to X_train  and # Put all train labels to y_train"
   ]
  },
  {
   "cell_type": "code",
   "execution_count": 5,
   "id": "f6bb41c5",
   "metadata": {},
   "outputs": [],
   "source": [
    "X_train = np.append(norm_images, pneu_images, axis=0)\n",
    "y_train = np.append(norm_labels, pneu_labels)\n"
   ]
  },
  {
   "cell_type": "code",
   "execution_count": 6,
   "id": "cd029a5f",
   "metadata": {},
   "outputs": [
    {
     "name": "stdout",
     "output_type": "stream",
     "text": [
      "(5216, 300, 300, 3)\n",
      "(10432,)\n"
     ]
    }
   ],
   "source": [
    "print(X_train.shape)\n",
    "print(y_train.shape)"
   ]
  },
  {
   "cell_type": "code",
   "execution_count": 7,
   "id": "e1f246d5",
   "metadata": {},
   "outputs": [
    {
     "name": "stdout",
     "output_type": "stream",
     "text": [
      "(array([0, 1]), array([5216, 5216], dtype=int64))\n"
     ]
    }
   ],
   "source": [
    "print(np.unique(y_train, return_counts=True))"
   ]
  },
  {
   "cell_type": "code",
   "execution_count": 8,
   "id": "156ecbdc",
   "metadata": {},
   "outputs": [
    {
     "name": "stdout",
     "output_type": "stream",
     "text": [
      "Loading test images\n"
     ]
    },
    {
     "name": "stderr",
     "output_type": "stream",
     "text": [
      "100%|████████████████████████████████████████████████████████████████████████████████| 234/234 [00:15<00:00, 14.97it/s]\n",
      "100%|████████████████████████████████████████████████████████████████████████████████| 234/234 [00:15<00:00, 14.99it/s]\n"
     ]
    }
   ],
   "source": [
    "print('Loading test images')\n",
    "#  same thing as what we have done on train data\n",
    "norm_images_test, norm_labels_test = load_normal('C:/Users/leena.chatterjee/Downloads/chest_xray/test/NORMAL/')\n",
    "pneu_images_test, pneu_labels_test = load_pneumonia('C:/Users/leena.chatterjee/Downloads/chest_xray/test/NORMAL/')\n"
   ]
  },
  {
   "cell_type": "code",
   "execution_count": 32,
   "id": "491f83f9",
   "metadata": {},
   "outputs": [],
   "source": [
    "X_test = np.append(norm_images_test, pneu_images_test, axis=0)\n",
    "y_test = np.append(norm_labels_test, pneu_labels_test)"
   ]
  },
  {
   "cell_type": "code",
   "execution_count": 33,
   "id": "58e7590b",
   "metadata": {},
   "outputs": [
    {
     "data": {
      "text/plain": [
       "5216"
      ]
     },
     "execution_count": 33,
     "metadata": {},
     "output_type": "execute_result"
    }
   ],
   "source": [
    "X_train.shape[0]"
   ]
  },
  {
   "cell_type": "code",
   "execution_count": 34,
   "id": "b89bdb66",
   "metadata": {},
   "outputs": [
    {
     "data": {
      "text/plain": [
       "300"
      ]
     },
     "execution_count": 34,
     "metadata": {},
     "output_type": "execute_result"
    }
   ],
   "source": [
    "X_train.shape[1]"
   ]
  },
  {
   "cell_type": "code",
   "execution_count": 35,
   "id": "6c09d4f7",
   "metadata": {},
   "outputs": [
    {
     "data": {
      "text/plain": [
       "300"
      ]
     },
     "execution_count": 35,
     "metadata": {},
     "output_type": "execute_result"
    }
   ],
   "source": [
    "X_train.shape[2]"
   ]
  },
  {
   "cell_type": "code",
   "execution_count": 36,
   "id": "824b1275",
   "metadata": {},
   "outputs": [
    {
     "data": {
      "text/plain": [
       "10432"
      ]
     },
     "execution_count": 36,
     "metadata": {},
     "output_type": "execute_result"
    }
   ],
   "source": [
    "y_train.shape[0]"
   ]
  },
  {
   "cell_type": "code",
   "execution_count": 37,
   "id": "8a5a5379",
   "metadata": {},
   "outputs": [
    {
     "data": {
      "text/plain": [
       "1"
      ]
     },
     "execution_count": 37,
     "metadata": {},
     "output_type": "execute_result"
    }
   ],
   "source": [
    "y_train.shape[1]"
   ]
  },
  {
   "cell_type": "code",
   "execution_count": null,
   "id": "eb4df978",
   "metadata": {},
   "outputs": [],
   "source": []
  },
  {
   "cell_type": "code",
   "execution_count": null,
   "id": "dfe76cdb",
   "metadata": {},
   "outputs": [],
   "source": []
  },
  {
   "cell_type": "code",
   "execution_count": 13,
   "id": "84b87b04",
   "metadata": {},
   "outputs": [],
   "source": [
    "import pickle"
   ]
  },
  {
   "cell_type": "code",
   "execution_count": null,
   "id": "d6d26ec1",
   "metadata": {},
   "outputs": [],
   "source": []
  },
  {
   "cell_type": "code",
   "execution_count": 14,
   "id": "80c93e2e",
   "metadata": {},
   "outputs": [],
   "source": [
    "# Save the loaded images to pickle file for future use\n",
    "with open('pneumonia_data.pickle', 'wb') as f:\n",
    "    pickle.dump((X_train, X_test, y_train, y_test), f)"
   ]
  },
  {
   "cell_type": "code",
   "execution_count": 15,
   "id": "3934a2db",
   "metadata": {},
   "outputs": [],
   "source": [
    "#load it\n",
    "with open('pneumonia_data.pickle', 'rb') as f:\n",
    "    (X_train, X_test, y_train, y_test) = pickle.load(f)"
   ]
  },
  {
   "cell_type": "code",
   "execution_count": 16,
   "id": "1553d81a",
   "metadata": {},
   "outputs": [
    {
     "name": "stdout",
     "output_type": "stream",
     "text": [
      "Label preprocessing\n"
     ]
    }
   ],
   "source": [
    "print('Label preprocessing')\n",
    "\n",
    "# Create new axis on all y data\n",
    "y_train = y_train[:, np.newaxis]\n",
    "y_test = y_test[:, np.newaxis]"
   ]
  },
  {
   "cell_type": "code",
   "execution_count": null,
   "id": "f220b468",
   "metadata": {},
   "outputs": [],
   "source": []
  },
  {
   "cell_type": "code",
   "execution_count": 18,
   "id": "e4dfe27c",
   "metadata": {},
   "outputs": [],
   "source": [
    "from sklearn.preprocessing import OneHotEncoder"
   ]
  },
  {
   "cell_type": "code",
   "execution_count": 20,
   "id": "c742e384",
   "metadata": {},
   "outputs": [],
   "source": [
    "# Initialize OneHotEncoder object\n",
    "one_hot_encoder = OneHotEncoder(sparse=False)"
   ]
  },
  {
   "cell_type": "code",
   "execution_count": 21,
   "id": "6e836648",
   "metadata": {},
   "outputs": [],
   "source": [
    "# Convert all labels to one-hot\n",
    "y_train_one_hot = one_hot_encoder.fit_transform(y_train)\n",
    "y_test_one_hot = one_hot_encoder.transform(y_test)"
   ]
  },
  {
   "cell_type": "code",
   "execution_count": 27,
   "id": "e4fb5885",
   "metadata": {},
   "outputs": [],
   "source": [
    "from keras.preprocessing.image import ImageDataGenerator"
   ]
  },
  {
   "cell_type": "code",
   "execution_count": 40,
   "id": "7f15e795",
   "metadata": {},
   "outputs": [
    {
     "ename": "ValueError",
     "evalue": "cannot reshape array of size 1408320000 into shape (5216,300,300)",
     "output_type": "error",
     "traceback": [
      "\u001b[1;31m---------------------------------------------------------------------------\u001b[0m",
      "\u001b[1;31mValueError\u001b[0m                                Traceback (most recent call last)",
      "\u001b[1;32mC:\\Users\\LEENA~1.CHA\\AppData\\Local\\Temp/ipykernel_3644/956393930.py\u001b[0m in \u001b[0;36m<module>\u001b[1;34m\u001b[0m\n\u001b[1;32m----> 1\u001b[1;33m \u001b[0mX_train\u001b[0m \u001b[1;33m=\u001b[0m \u001b[0mX_train\u001b[0m\u001b[1;33m.\u001b[0m\u001b[0mreshape\u001b[0m\u001b[1;33m(\u001b[0m\u001b[0mX_train\u001b[0m\u001b[1;33m.\u001b[0m\u001b[0mshape\u001b[0m\u001b[1;33m[\u001b[0m\u001b[1;36m0\u001b[0m\u001b[1;33m]\u001b[0m\u001b[1;33m,\u001b[0m \u001b[0mX_train\u001b[0m\u001b[1;33m.\u001b[0m\u001b[0mshape\u001b[0m\u001b[1;33m[\u001b[0m\u001b[1;36m1\u001b[0m\u001b[1;33m]\u001b[0m\u001b[1;33m,\u001b[0m \u001b[0mX_train\u001b[0m\u001b[1;33m.\u001b[0m\u001b[0mshape\u001b[0m\u001b[1;33m[\u001b[0m\u001b[1;36m2\u001b[0m\u001b[1;33m]\u001b[0m\u001b[1;33m)\u001b[0m\u001b[1;33m\u001b[0m\u001b[1;33m\u001b[0m\u001b[0m\n\u001b[0m",
      "\u001b[1;31mValueError\u001b[0m: cannot reshape array of size 1408320000 into shape (5216,300,300)"
     ]
    }
   ],
   "source": [
    "X_train = X_train.reshape(X_train.shape[0], X_train.shape[1], X_train.shape[2])\n"
   ]
  },
  {
   "cell_type": "code",
   "execution_count": null,
   "id": "b79c346b",
   "metadata": {},
   "outputs": [],
   "source": [
    "X_test = X_test.reshape(X_test.shape[0], X_test.shape[1], X_test.shape[2], 1)"
   ]
  },
  {
   "cell_type": "code",
   "execution_count": 30,
   "id": "643c98f6",
   "metadata": {},
   "outputs": [
    {
     "name": "stdout",
     "output_type": "stream",
     "text": [
      "Data augmentation\n"
     ]
    }
   ],
   "source": [
    "print('Data augmentation')\n",
    "# Generate new images with some randomness\n",
    "datagen = ImageDataGenerator(\n",
    "\t\trotation_range = 10,  \n",
    "        zoom_range = 0.1, \n",
    "        width_shift_range = 0.1, \n",
    "        height_shift_range = 0.1)\n",
    "\n"
   ]
  },
  {
   "cell_type": "code",
   "execution_count": null,
   "id": "e434f3d0",
   "metadata": {},
   "outputs": [],
   "source": []
  },
  {
   "cell_type": "code",
   "execution_count": 31,
   "id": "97856441",
   "metadata": {},
   "outputs": [
    {
     "ename": "ValueError",
     "evalue": "`x` (images tensor) and `y` (labels) should have the same length. Found: x.shape = (5216, 300, 300, 3), y.shape = (10432, 2)",
     "output_type": "error",
     "traceback": [
      "\u001b[1;31m---------------------------------------------------------------------------\u001b[0m",
      "\u001b[1;31mValueError\u001b[0m                                Traceback (most recent call last)",
      "\u001b[1;32mC:\\Users\\LEENA~1.CHA\\AppData\\Local\\Temp/ipykernel_3644/2585232548.py\u001b[0m in \u001b[0;36m<module>\u001b[1;34m\u001b[0m\n\u001b[0;32m      1\u001b[0m \u001b[0mdatagen\u001b[0m\u001b[1;33m.\u001b[0m\u001b[0mfit\u001b[0m\u001b[1;33m(\u001b[0m\u001b[0mX_train\u001b[0m\u001b[1;33m)\u001b[0m\u001b[1;33m\u001b[0m\u001b[1;33m\u001b[0m\u001b[0m\n\u001b[1;32m----> 2\u001b[1;33m \u001b[0mtrain_gen\u001b[0m \u001b[1;33m=\u001b[0m \u001b[0mdatagen\u001b[0m\u001b[1;33m.\u001b[0m\u001b[0mflow\u001b[0m\u001b[1;33m(\u001b[0m\u001b[0mX_train\u001b[0m\u001b[1;33m,\u001b[0m \u001b[0my_train_one_hot\u001b[0m\u001b[1;33m,\u001b[0m \u001b[0mbatch_size\u001b[0m \u001b[1;33m=\u001b[0m \u001b[1;36m32\u001b[0m\u001b[1;33m)\u001b[0m\u001b[1;33m\u001b[0m\u001b[1;33m\u001b[0m\u001b[0m\n\u001b[0m",
      "\u001b[1;32m~\\Anaconda3\\lib\\site-packages\\keras\\preprocessing\\image.py\u001b[0m in \u001b[0;36mflow\u001b[1;34m(self, x, y, batch_size, shuffle, sample_weight, seed, save_to_dir, save_prefix, save_format, subset)\u001b[0m\n\u001b[0;32m    894\u001b[0m         \u001b[0msave_prefix\u001b[0m\u001b[1;33m=\u001b[0m\u001b[0msave_prefix\u001b[0m\u001b[1;33m,\u001b[0m\u001b[1;33m\u001b[0m\u001b[1;33m\u001b[0m\u001b[0m\n\u001b[0;32m    895\u001b[0m         \u001b[0msave_format\u001b[0m\u001b[1;33m=\u001b[0m\u001b[0msave_format\u001b[0m\u001b[1;33m,\u001b[0m\u001b[1;33m\u001b[0m\u001b[1;33m\u001b[0m\u001b[0m\n\u001b[1;32m--> 896\u001b[1;33m         subset=subset)\n\u001b[0m\u001b[0;32m    897\u001b[0m \u001b[1;33m\u001b[0m\u001b[0m\n\u001b[0;32m    898\u001b[0m   def flow_from_directory(self,\n",
      "\u001b[1;32m~\\Anaconda3\\lib\\site-packages\\keras\\preprocessing\\image.py\u001b[0m in \u001b[0;36m__init__\u001b[1;34m(self, x, y, image_data_generator, batch_size, shuffle, sample_weight, seed, data_format, save_to_dir, save_prefix, save_format, subset, dtype)\u001b[0m\n\u001b[0;32m    472\u001b[0m         \u001b[0msave_format\u001b[0m\u001b[1;33m=\u001b[0m\u001b[0msave_format\u001b[0m\u001b[1;33m,\u001b[0m\u001b[1;33m\u001b[0m\u001b[1;33m\u001b[0m\u001b[0m\n\u001b[0;32m    473\u001b[0m         \u001b[0msubset\u001b[0m\u001b[1;33m=\u001b[0m\u001b[0msubset\u001b[0m\u001b[1;33m,\u001b[0m\u001b[1;33m\u001b[0m\u001b[1;33m\u001b[0m\u001b[0m\n\u001b[1;32m--> 474\u001b[1;33m         **kwargs)\n\u001b[0m\u001b[0;32m    475\u001b[0m \u001b[1;33m\u001b[0m\u001b[0m\n\u001b[0;32m    476\u001b[0m \u001b[1;33m\u001b[0m\u001b[0m\n",
      "\u001b[1;32m~\\Anaconda3\\lib\\site-packages\\keras_preprocessing\\image\\numpy_array_iterator.py\u001b[0m in \u001b[0;36m__init__\u001b[1;34m(self, x, y, image_data_generator, batch_size, shuffle, sample_weight, seed, data_format, save_to_dir, save_prefix, save_format, subset, dtype)\u001b[0m\n\u001b[0;32m     87\u001b[0m                              \u001b[1;34m'should have the same length. '\u001b[0m\u001b[1;33m\u001b[0m\u001b[1;33m\u001b[0m\u001b[0m\n\u001b[0;32m     88\u001b[0m                              \u001b[1;34m'Found: x.shape = %s, y.shape = %s'\u001b[0m \u001b[1;33m%\u001b[0m\u001b[1;33m\u001b[0m\u001b[1;33m\u001b[0m\u001b[0m\n\u001b[1;32m---> 89\u001b[1;33m                              (np.asarray(x).shape, np.asarray(y).shape))\n\u001b[0m\u001b[0;32m     90\u001b[0m         \u001b[1;32mif\u001b[0m \u001b[0msample_weight\u001b[0m \u001b[1;32mis\u001b[0m \u001b[1;32mnot\u001b[0m \u001b[1;32mNone\u001b[0m \u001b[1;32mand\u001b[0m \u001b[0mlen\u001b[0m\u001b[1;33m(\u001b[0m\u001b[0mx\u001b[0m\u001b[1;33m)\u001b[0m \u001b[1;33m!=\u001b[0m \u001b[0mlen\u001b[0m\u001b[1;33m(\u001b[0m\u001b[0msample_weight\u001b[0m\u001b[1;33m)\u001b[0m\u001b[1;33m:\u001b[0m\u001b[1;33m\u001b[0m\u001b[1;33m\u001b[0m\u001b[0m\n\u001b[0;32m     91\u001b[0m             raise ValueError('`x` (images tensor) and `sample_weight` '\n",
      "\u001b[1;31mValueError\u001b[0m: `x` (images tensor) and `y` (labels) should have the same length. Found: x.shape = (5216, 300, 300, 3), y.shape = (10432, 2)"
     ]
    }
   ],
   "source": [
    "datagen.fit(X_train)\n",
    "train_gen = datagen.flow(X_train, y_train_one_hot, batch_size = 32)"
   ]
  },
  {
   "cell_type": "code",
   "execution_count": null,
   "id": "2f45055f",
   "metadata": {},
   "outputs": [],
   "source": [
    "print('CNN')\n",
    "\n",
    "# Define the input shape of the neural network\n",
    "input_shape = (X_train.shape[1], X_train.shape[2], 1)\n",
    "print(input_shape)\n",
    "\n",
    "input1 = Input(shape=input_shape)\n",
    "\n",
    "cnn = Conv2D(16, (3, 3), activation='relu', strides=(1, 1), \n",
    "    padding='same')(input1)\n",
    "cnn = Conv2D(32, (3, 3), activation='relu', strides=(1, 1), \n",
    "    padding='same')(cnn)\n",
    "cnn = MaxPool2D((2, 2))(cnn)\n",
    "\n",
    "cnn = Conv2D(16, (2, 2), activation='relu', strides=(1, 1), \n",
    "    padding='same')(cnn)\n",
    "cnn = Conv2D(32, (2, 2), activation='relu', strides=(1, 1), \n",
    "    padding='same')(cnn)\n",
    "cnn = MaxPool2D((2, 2))(cnn)\n",
    "\n",
    "cnn = Flatten()(cnn)\n",
    "cnn = Dense(100, activation='relu')(cnn)\n",
    "cnn = Dense(50, activation='relu')(cnn)\n",
    "output1 = Dense(3, activation='softmax')(cnn)\n"
   ]
  },
  {
   "cell_type": "code",
   "execution_count": null,
   "id": "5e6c1f54",
   "metadata": {},
   "outputs": [],
   "source": [
    "model.compile(loss='categorical_crossentropy', \n",
    "              optimizer='adam', metrics=['acc'])"
   ]
  },
  {
   "cell_type": "code",
   "execution_count": null,
   "id": "68e9aefb",
   "metadata": {},
   "outputs": [],
   "source": [
    "# Predicting test data\n",
    "predictions = model.predict(X_test)\n",
    "print(predictions)"
   ]
  },
  {
   "cell_type": "code",
   "execution_count": null,
   "id": "6ba87169",
   "metadata": {},
   "outputs": [],
   "source": [
    "predictions = one_hot_encoder.inverse_transform(predictions)"
   ]
  },
  {
   "cell_type": "code",
   "execution_count": null,
   "id": "b752434f",
   "metadata": {},
   "outputs": [],
   "source": [
    "cm = confusion_matrix(y_test, predictions)"
   ]
  }
 ],
 "metadata": {
  "kernelspec": {
   "display_name": "Python 3 (ipykernel)",
   "language": "python",
   "name": "python3"
  },
  "language_info": {
   "codemirror_mode": {
    "name": "ipython",
    "version": 3
   },
   "file_extension": ".py",
   "mimetype": "text/x-python",
   "name": "python",
   "nbconvert_exporter": "python",
   "pygments_lexer": "ipython3",
   "version": "3.7.11"
  }
 },
 "nbformat": 4,
 "nbformat_minor": 5
}
